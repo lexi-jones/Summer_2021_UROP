{
 "cells": [
  {
   "cell_type": "markdown",
   "id": "16ac5875",
   "metadata": {},
   "source": [
    "# 3. graph one day of SOCAT data\n",
    "\n",
    "----------\n",
    "\n",
    "This script filters the SOCAT data by year but only uses data above the 30 degrees latitude line, just like in the SOCAT data visualization script. It also has a useful algorithm for graphing a single day of SOCAT data given a date in 'YYYYMMDD' format.\n",
    "\n",
    "----------\n",
    "\n",
    "Sydney Paige Kim \n",
    "\n",
    "Date Created: 07/16/2021\n",
    "\n",
    "Last Edited: 08/20/2021"
   ]
  },
  {
   "cell_type": "code",
   "execution_count": 1,
   "id": "b7d26a4c",
   "metadata": {},
   "outputs": [],
   "source": [
    "import csv\n",
    "import numpy as np\n",
    "import matplotlib as mpl\n",
    "import matplotlib.pyplot as plt"
   ]
  },
  {
   "cell_type": "code",
   "execution_count": 2,
   "id": "91b3ed65",
   "metadata": {},
   "outputs": [],
   "source": [
    "np_SOCAT_America = np.genfromtxt(\"SOCAT_data_North_America_Pacific.csv\",delimiter=',')\n",
    "np_SOCAT_Asia = np.genfromtxt(\"SOCAT_data_North_Asian_Pacific_fco2_only.csv\",delimiter=',')"
   ]
  },
  {
   "cell_type": "code",
   "execution_count": 3,
   "id": "625eb27b",
   "metadata": {},
   "outputs": [],
   "source": [
    "np_SOCAT_unfiltered = np.concatenate((np_SOCAT_America,np_SOCAT_Asia[1:]),axis=0)"
   ]
  },
  {
   "cell_type": "code",
   "execution_count": 4,
   "id": "22f954a7",
   "metadata": {},
   "outputs": [
    {
     "name": "stdout",
     "output_type": "stream",
     "text": [
      "[1962. 1963. 1964. 1965. 1966. 1967. 1968. 1969. 1970. 1971. 1972. 1973.\n",
      " 1974. 1975. 1976. 1977. 1978. 1979. 1980. 1981. 1982. 1983. 1984. 1985.\n",
      " 1986. 1987. 1988. 1989. 1990. 1991. 1992. 1993. 1994. 1995. 1996. 1997.\n",
      " 1998. 1999.]\n"
     ]
    }
   ],
   "source": [
    "years_to_remove = np.arange(1962.,2000.)\n",
    "print(years_to_remove)\n",
    "\n",
    "np_SOCAT = np.copy(np_SOCAT_unfiltered)"
   ]
  },
  {
   "cell_type": "code",
   "execution_count": 5,
   "id": "de5af1a6",
   "metadata": {},
   "outputs": [
    {
     "name": "stdout",
     "output_type": "stream",
     "text": [
      "[1962. 1963. 1964. 1965. 1966. 1967. 1968. 1969. 1970. 1971. 1972. 1973.\n",
      " 1974. 1975. 1976. 1977. 1978. 1979. 1980. 1981. 1982. 1983. 1984. 1985.\n",
      " 1986. 1987. 1988. 1989. 1990. 1991. 1992. 1993. 1994. 1995. 1996. 1997.\n",
      " 1998. 1999. 2020.]\n"
     ]
    }
   ],
   "source": [
    "years_to_remove = np.append(years_to_remove, [2020.], axis=0)\n",
    "print(years_to_remove)"
   ]
  },
  {
   "cell_type": "code",
   "execution_count": 6,
   "id": "ed328113",
   "metadata": {},
   "outputs": [],
   "source": [
    "for yr in years_to_remove:\n",
    "    rows_to_remove = np.argwhere(np_SOCAT[:,0]==yr)\n",
    "    np_SOCAT = np.delete(np_SOCAT,rows_to_remove,axis=0)"
   ]
  },
  {
   "cell_type": "code",
   "execution_count": 7,
   "id": "dbf63efe",
   "metadata": {},
   "outputs": [
    {
     "name": "stdout",
     "output_type": "stream",
     "text": [
      "(836968, 7)\n",
      "(696296, 7)\n"
     ]
    }
   ],
   "source": [
    "print(np.shape(np_SOCAT_unfiltered))\n",
    "print(np.shape(np_SOCAT))"
   ]
  },
  {
   "cell_type": "code",
   "execution_count": 8,
   "id": "a60ad1ae",
   "metadata": {},
   "outputs": [
    {
     "data": {
      "text/plain": [
       "array([], shape=(0, 1), dtype=int64)"
      ]
     },
     "execution_count": 8,
     "metadata": {},
     "output_type": "execute_result"
    }
   ],
   "source": [
    "np.argwhere(np_SOCAT[:,0]==1999.)\n",
    "# this returns an empty array, so we know it worked"
   ]
  },
  {
   "cell_type": "code",
   "execution_count": 9,
   "id": "f003a9c3",
   "metadata": {},
   "outputs": [],
   "source": [
    "def visualize_fco2(date):\n",
    "    \"\"\"\n",
    "    Input\n",
    "        date - Format YYYYMMDD\n",
    "        socat_data - array with data\n",
    "        \n",
    "    Output\n",
    "        Plot of fco2 measurements on a given date. \n",
    "    \"\"\"\n",
    "    \n",
    "    # cut the YYYYMMDD input into year, month, and day to match the dataset\n",
    "    year = float(date[0:4])   \n",
    "    month = float(date[4:6])\n",
    "    day = float(date[6:8])\n",
    "\n",
    "    # search for indeces that match the specified date\n",
    "    inds = np.where((np_SOCAT[:,0]==year) & (np_SOCAT[:,1]==month) & (np_SOCAT[:,2]==day))\n",
    "    data_for_day = np_SOCAT[inds]\n",
    "\n",
    "    # this block of code tells you if there is no data for the specified date\n",
    "    if data_for_day.size == 0:\n",
    "        print('There is no fco2 data for the date ' + date + '. ' + 'Please try another date.')\n",
    "    else:\n",
    "        print('Array data_for_day created.')\n",
    "        print(data_for_day)\n",
    "    \n",
    "    # the rest of this code is what creates the graph\n",
    "    lat = data_for_day[1:,4]\n",
    "    lon = data_for_day[1:,5]\n",
    "    fco2 = data_for_day[1:,6]\n",
    "    \n",
    "    plt.rcParams[\"figure.figsize\"] = (20,10)  #(width, height)\n",
    "    plt.scatter(lon,lat,c=fco2,s=10,cmap='YlGnBu')\n",
    "    plt.grid()\n",
    "    cbar = plt.colorbar()\n",
    "    cbar.set_label('fCO2 [microatm]', rotation=270, fontsize=35, labelpad=40)\n",
    "    \n",
    "    print('Visualization generated.')"
   ]
  },
  {
   "cell_type": "code",
   "execution_count": 10,
   "id": "efd880f8",
   "metadata": {},
   "outputs": [
    {
     "name": "stdout",
     "output_type": "stream",
     "text": [
      "Array data_for_day created.\n",
      "[[2001.        3.       22.     ...   49.8172  192.645   406.397 ]\n",
      " [2001.        3.       22.     ...   49.8124  192.732   410.023 ]\n",
      " [2001.        3.       22.     ...   49.8006  192.815   409.782 ]\n",
      " ...\n",
      " [2001.        3.       22.     ...   31.242   173.92    310.96  ]\n",
      " [2001.        3.       22.     ...   31.242   173.92    310.914 ]\n",
      " [2001.        3.       22.     ...   31.242   173.92    311.252 ]]\n",
      "Visualization generated.\n"
     ]
    },
    {
     "data": {
      "image/png": "[encoded data removed]",
      "text/plain": [
       "<Figure size 1440x720 with 2 Axes>"
      ]
     },
     "metadata": {
      "needs_background": "light"
     },
     "output_type": "display_data"
    }
   ],
   "source": [
    "date = '20010322'\n",
    "visualize_fco2(date)"
   ]
  },
  {
   "cell_type": "code",
   "execution_count": null,
   "id": "99bf7493",
   "metadata": {},
   "outputs": [],
   "source": []
  }
 ],
 "metadata": {
  "kernelspec": {
   "display_name": "Python 3",
   "language": "python",
   "name": "python3"
  },
  "language_info": {
   "codemirror_mode": {
    "name": "ipython",
    "version": 3
   },
   "file_extension": ".py",
   "mimetype": "text/x-python",
   "name": "python",
   "nbconvert_exporter": "python",
   "pygments_lexer": "ipython3",
   "version": "3.8.8"
  }
 },
 "nbformat": 4,
 "nbformat_minor": 5
}
