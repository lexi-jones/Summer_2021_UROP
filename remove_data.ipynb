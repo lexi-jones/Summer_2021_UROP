{
 "cells": [
  {
   "cell_type": "code",
   "execution_count": 1,
   "id": "b1cfd8e0",
   "metadata": {},
   "outputs": [],
   "source": [
    "import numpy as np"
   ]
  },
  {
   "cell_type": "code",
   "execution_count": 2,
   "id": "6f5e8186",
   "metadata": {},
   "outputs": [],
   "source": [
    "data_dir = '/Users/lexijones/Dropbox (MIT)/Grad_School/2021_Summer_UROP/data/'\n",
    "data_file = 'SOCAT_data_North_Pacific.csv'"
   ]
  },
  {
   "cell_type": "code",
   "execution_count": 9,
   "id": "9889075c",
   "metadata": {},
   "outputs": [],
   "source": [
    "SOCAT = np.genfromtxt(data_dir + data_file,delimiter=',')"
   ]
  },
  {
   "cell_type": "code",
   "execution_count": 10,
   "id": "71a96c02",
   "metadata": {},
   "outputs": [
    {
     "data": {
      "text/plain": [
       "(50519, 7)"
      ]
     },
     "execution_count": 10,
     "metadata": {},
     "output_type": "execute_result"
    }
   ],
   "source": [
    "np.shape(SOCAT)"
   ]
  },
  {
   "cell_type": "code",
   "execution_count": 13,
   "id": "a2b771d0",
   "metadata": {},
   "outputs": [
    {
     "data": {
      "text/plain": [
       "array([2010.   ,    7.   ,   25.   ,   18.   ,   30.245,  166.806,\n",
       "        406.4  ])"
      ]
     },
     "execution_count": 13,
     "metadata": {},
     "output_type": "execute_result"
    }
   ],
   "source": [
    "SOCAT[1]"
   ]
  },
  {
   "cell_type": "code",
   "execution_count": 19,
   "id": "d0a603d0",
   "metadata": {},
   "outputs": [
    {
     "data": {
      "text/plain": [
       "array([2010., 2011., 2012., 2014., 2016.])"
      ]
     },
     "execution_count": 19,
     "metadata": {},
     "output_type": "execute_result"
    }
   ],
   "source": [
    "np.unique(SOCAT[1:,0]) #finds all of the unique values in the first column of the data"
   ]
  },
  {
   "cell_type": "markdown",
   "id": "13ceb772",
   "metadata": {},
   "source": [
    "Let's find all of the indices of the rows that have years 2010 to 2012."
   ]
  },
  {
   "cell_type": "code",
   "execution_count": 21,
   "id": "539ae0b7",
   "metadata": {},
   "outputs": [
    {
     "data": {
      "text/plain": [
       "array([[    1],\n",
       "       [    2],\n",
       "       [    3],\n",
       "       ...,\n",
       "       [12855],\n",
       "       [12856],\n",
       "       [12857]])"
      ]
     },
     "execution_count": 21,
     "metadata": {},
     "output_type": "execute_result"
    }
   ],
   "source": [
    "np.argwhere(SOCAT[:,0]==2010.) #here argwhere finds the index of the rows with the year 2010"
   ]
  },
  {
   "cell_type": "code",
   "execution_count": 24,
   "id": "b5df0b01",
   "metadata": {},
   "outputs": [
    {
     "data": {
      "text/plain": [
       "array([2010., 2011., 2012.])"
      ]
     },
     "execution_count": 24,
     "metadata": {},
     "output_type": "execute_result"
    }
   ],
   "source": [
    "bad_years = np.arange(2010.,2013.) #create array of a range of numbers\n",
    "bad_years"
   ]
  },
  {
   "cell_type": "code",
   "execution_count": 32,
   "id": "241bae26",
   "metadata": {},
   "outputs": [],
   "source": [
    "new_SOCAT = np.copy(SOCAT) #create a copy of the SOCAT dataset, this will be the variable we will delete the rows from"
   ]
  },
  {
   "cell_type": "code",
   "execution_count": 33,
   "id": "d82ddad6",
   "metadata": {},
   "outputs": [],
   "source": [
    "for yr in bad_years: #iterate through 2010, 2011, and 2012\n",
    "    bad_rows = np.argwhere(new_SOCAT[:,0]==yr) #find indices with the given yr\n",
    "    new_SOCAT = np.delete(new_SOCAT,bad_rows,axis=0) #remove the rows with those indices"
   ]
  },
  {
   "cell_type": "code",
   "execution_count": 34,
   "id": "39ece980",
   "metadata": {},
   "outputs": [
    {
     "data": {
      "text/plain": [
       "(29753, 7)"
      ]
     },
     "execution_count": 34,
     "metadata": {},
     "output_type": "execute_result"
    }
   ],
   "source": [
    "np.shape(new_SOCAT) #now we can see new_SOCAT has much fewer rows than SOCAT did"
   ]
  },
  {
   "cell_type": "code",
   "execution_count": 35,
   "id": "41fbc419",
   "metadata": {},
   "outputs": [
    {
     "data": {
      "text/plain": [
       "array([], shape=(0, 1), dtype=int64)"
      ]
     },
     "execution_count": 35,
     "metadata": {},
     "output_type": "execute_result"
    }
   ],
   "source": [
    "np.argwhere(new_SOCAT[:,0]==2012.) #if we try and search for rows with a year we removed, nothing comes up so we know it worked"
   ]
  },
  {
   "cell_type": "code",
   "execution_count": null,
   "id": "f7293898",
   "metadata": {},
   "outputs": [],
   "source": []
  }
 ],
 "metadata": {
  "kernelspec": {
   "display_name": "Python 3",
   "language": "python",
   "name": "python3"
  },
  "language_info": {
   "codemirror_mode": {
    "name": "ipython",
    "version": 3
   },
   "file_extension": ".py",
   "mimetype": "text/x-python",
   "name": "python",
   "nbconvert_exporter": "python",
   "pygments_lexer": "ipython3",
   "version": "3.8.10"
  }
 },
 "nbformat": 4,
 "nbformat_minor": 5
}
